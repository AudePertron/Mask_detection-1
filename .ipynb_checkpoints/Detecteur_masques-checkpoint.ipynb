{
 "cells": [
  {
   "cell_type": "code",
   "execution_count": 27,
   "metadata": {},
   "outputs": [],
   "source": [
    "import numpy as np\n",
    "import glob\n",
    "import cv2"
   ]
  },
  {
   "cell_type": "code",
   "execution_count": 36,
   "metadata": {},
   "outputs": [],
   "source": [
    "train_with = [cv2.imread(file, 0) for file in glob.glob(\"Dataset_masks/train/with_mask/*.jpg\")]\n",
    "train_without = [cv2.imread(file, 0) for file in glob.glob(\"Dataset_masks/train/without_mask/*.jpg\")]\n",
    "test_with = [cv2.imread(file, 0) for file in glob.glob(\"Dataset_masks/test/with_mask/*.jpg\")]\n",
    "test_without = [cv2.imread(file, 0) for file in glob.glob(\"Dataset_masks/test/without_mask/*.jpg\")]"
   ]
  },
  {
   "cell_type": "code",
   "execution_count": 38,
   "metadata": {},
   "outputs": [
    {
     "data": {
      "text/plain": [
       "97"
      ]
     },
     "execution_count": 38,
     "metadata": {},
     "output_type": "execute_result"
    }
   ],
   "source": [
    "len(test_without)"
   ]
  },
  {
   "cell_type": "code",
   "execution_count": 43,
   "metadata": {},
   "outputs": [],
   "source": [
    "def create_dataset(chemin, images):\n",
    "    face_cascade = cv2.CascadeClassifier(cv2.data.haarcascades + 'haarcascade_frontalface_default.xml')\n",
    "\n",
    "    for i, img in enumerate(images):\n",
    "        face = face_cascade.detectMultiScale(img, 1.3, 5)\n",
    "        for (x, y, w, h) in face:\n",
    "            startRow = int(y)\n",
    "            startCol = int(x)\n",
    "            endRow = int(y+h)\n",
    "            endCol = int(x+w)\n",
    "            croppedImage = img[startRow:endRow, startCol:endCol]\n",
    "        \n",
    "        if croppedImage.shape[0] > 55: \n",
    "            newImg = cv2.resize(croppedImage, (68, 68))\n",
    "            cv2.imwrite(f\"{chemin}/{i}.jpg\", newImg)\n",
    "        "
   ]
  },
  {
   "cell_type": "code",
   "execution_count": 44,
   "metadata": {},
   "outputs": [],
   "source": [
    "create_dataset(\"traitement/train_with\", train_with)\n",
    "create_dataset(\"traitement/train_without\", train_without)\n",
    "create_dataset(\"traitement/test_with\", test_with)\n",
    "create_dataset(\"traitement/test_without\", test_without)"
   ]
  },
  {
   "cell_type": "code",
   "execution_count": 45,
   "metadata": {},
   "outputs": [],
   "source": [
    "df_train_with = [cv2.imread(file, 0) for file in glob.glob(\"traitement/train_with/*.jpg\")]\n",
    "df_train_without = [cv2.imread(file, 0) for file in glob.glob(\"traitement/train_without/*.jpg\")]\n",
    "df_test_with = [cv2.imread(file, 0) for file in glob.glob(\"traitement/test_with/*.jpg\")]\n",
    "df_test_without = [cv2.imread(file, 0) for file in glob.glob(\"traitement/test_without/*.jpg\")]"
   ]
  },
  {
   "cell_type": "code",
   "execution_count": null,
   "metadata": {},
   "outputs": [],
   "source": []
  }
 ],
 "metadata": {
  "kernelspec": {
   "display_name": "Python 3",
   "language": "python",
   "name": "python3"
  },
  "language_info": {
   "codemirror_mode": {
    "name": "ipython",
    "version": 3
   },
   "file_extension": ".py",
   "mimetype": "text/x-python",
   "name": "python",
   "nbconvert_exporter": "python",
   "pygments_lexer": "ipython3",
   "version": "3.8.3"
  }
 },
 "nbformat": 4,
 "nbformat_minor": 4
}
